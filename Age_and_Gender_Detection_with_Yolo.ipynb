{
 "cells": [
  {
   "cell_type": "code",
   "execution_count": 7,
   "metadata": {},
   "outputs": [
    {
     "name": "stdout",
     "output_type": "stream",
     "text": [
      "Tensor shape: torch.Size([1, 3, 640, 640])\n",
      "Error during face detection: The shape of the mask [1, 85] at index 1 does not match the shape of the indexed tensor [1, 25200, 85] at index 1\n"
     ]
    },
    {
     "ename": "",
     "evalue": "",
     "output_type": "error",
     "traceback": [
      "\u001b[1;31mThe Kernel crashed while executing code in the current cell or a previous cell. \n",
      "\u001b[1;31mPlease review the code in the cell(s) to identify a possible cause of the failure. \n",
      "\u001b[1;31mClick <a href='https://aka.ms/vscodeJupyterKernelCrash'>here</a> for more info. \n",
      "\u001b[1;31mView Jupyter <a href='command:jupyter.viewOutput'>log</a> for further details."
     ]
    }
   ],
   "source": [
    "import cv2\n",
    "import torch\n",
    "from pathlib import Path\n",
    "from deepface import DeepFace\n",
    "import numpy as np\n",
    "\n",
    "# Define the device to run the model on\n",
    "device = torch.device('cuda' if torch.cuda.is_available() else 'cpu')\n",
    "\n",
    "# Load the YOLOv7 model\n",
    "model_path = './yolov7/yolov7.pt'  # pastikan file yolov7.pt ada di direktori kerja Anda\n",
    "model = torch.load(model_path, map_location=device)['model']\n",
    "model = model.half().to(device)\n",
    "model.eval()\n",
    "\n",
    "# Function to perform inference\n",
    "def detect_faces(img, model):\n",
    "    if img is None:\n",
    "        raise ValueError(\"Image not loaded properly\")\n",
    "    \n",
    "    # Prepare the image\n",
    "    img_rgb = cv2.cvtColor(img, cv2.COLOR_BGR2RGB)\n",
    "    img_resized = cv2.resize(img_rgb, (640, 640))  # Resize to the input size expected by YOLOv7\n",
    "    img_tensor = torch.from_numpy(img_resized).permute(2, 0, 1).unsqueeze(0).half().to(device)\n",
    "    img_tensor /= 255.0  # normalize to [0, 1]\n",
    "    \n",
    "    if img_tensor is None:\n",
    "        raise ValueError(\"Tensor conversion failed\")\n",
    "    \n",
    "    # Debug: Print tensor shape\n",
    "    print(f\"Tensor shape: {img_tensor.shape}\")\n",
    "\n",
    "    # Run inference\n",
    "    with torch.no_grad():\n",
    "        pred = model(img_tensor)[0]\n",
    "\n",
    "    # Process predictions\n",
    "    pred = pred[pred[:, 4] > 0.5]  # threshold confidence\n",
    "    boxes = pred[:, :4].cpu().numpy()\n",
    "    return boxes\n",
    "\n",
    "# Load image\n",
    "image_path = './tests/freya.jpg'\n",
    "img = cv2.imread(image_path)\n",
    "\n",
    "# Perform face detection using YOLOv7\n",
    "try:\n",
    "    boxes = detect_faces(img, model)\n",
    "except Exception as e:\n",
    "    print(f\"Error during face detection: {e}\")\n",
    "    boxes = []\n",
    "\n",
    "# Loop through detected faces and classify gender, estimate age\n",
    "for box in boxes:\n",
    "    x1, y1, x2, y2 = box.astype(int)\n",
    "    face = img[y1:y2, x1:x2]\n",
    "\n",
    "    # Use DeepFace to analyze the face\n",
    "    analysis = DeepFace.analyze(face, actions=['age', 'gender'])\n",
    "\n",
    "    age = analysis['age']\n",
    "    gender = analysis['gender']\n",
    "\n",
    "    # Draw bounding box and label on the image\n",
    "    label = f\"{gender}, {age}\"\n",
    "    cv2.rectangle(img, (x1, y1), (x2, y2), (0, 255, 0), 2)\n",
    "    cv2.putText(img, label, (x1, y1 - 10), cv2.FONT_HERSHEY_SIMPLEX, 0.9, (0, 255, 0), 2)\n",
    "\n",
    "# Display the image\n",
    "cv2.imshow('Image', img)\n",
    "cv2.waitKey(0)\n",
    "cv2.destroyAllWindows()\n"
   ]
  }
 ],
 "metadata": {
  "kernelspec": {
   "display_name": "Python 3",
   "language": "python",
   "name": "python3"
  },
  "language_info": {
   "codemirror_mode": {
    "name": "ipython",
    "version": 3
   },
   "file_extension": ".py",
   "mimetype": "text/x-python",
   "name": "python",
   "nbconvert_exporter": "python",
   "pygments_lexer": "ipython3",
   "version": "3.10.11"
  }
 },
 "nbformat": 4,
 "nbformat_minor": 2
}
